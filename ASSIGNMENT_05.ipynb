{
  "nbformat": 4,
  "nbformat_minor": 0,
  "metadata": {
    "colab": {
      "provenance": []
    },
    "kernelspec": {
      "name": "python3",
      "display_name": "Python 3"
    },
    "language_info": {
      "name": "python"
    }
  },
  "cells": [
    {
      "cell_type": "markdown",
      "source": [
        "THEORY QUESTIONS:\n",
        "\n",
        "\n",
        "\n",
        "(1) What is the difference between interpreted and compiled languages?\n",
        "\n",
        "Ans: Interpreted languages execute code line by line, while compiled languages translate the entire code into machine language before execution\n",
        "\n",
        "\n",
        "\n",
        "\n",
        "(2) What is exception handling in Python?\n",
        "\n",
        "Ans: Exception handling is a mechanism in Python to gracefully handle errors and prevent program crashes, using try, except, and finally blocks.\n",
        "\n",
        "\n",
        "\n",
        "\n",
        "(3) What is the purpose of the finally block in exception handling?\n",
        "\n",
        "Ans: The finally block ensures code within it is executed regardless of whether an exception occurred or not, typically for cleanup tasks.\n",
        "\n",
        "\n",
        "\n",
        "\n",
        "(4) What is logging in Python?\n",
        "\n",
        "Ans: Logging in Python records program events, including errors, warnings, and informational messages, for debugging and monitoring purposes.\n",
        "\n",
        "\n",
        "\n",
        "\n",
        "\n",
        "(5) What is the significance of the __del__ method in Python?\n",
        "\n",
        "Ans: The __del__ method is a destructor, called when an object is about to be destroyed, allowing cleanup actions before memory is released.\n",
        "\n",
        "\n",
        "\n",
        "\n",
        "\n",
        "(6) What is the difference between import and from ... import in Python?\n",
        "\n",
        "Ans: import brings in an entire module, while from ... import imports specific attributes, like functions or classes, from a module.\n",
        "\n",
        "\n",
        "\n",
        "\n",
        "\n",
        "(7) How can you handle multiple exceptions in Python?\n",
        "\n",
        "Ans: Multiple exceptions can be handled using multiple except blocks, each targeting a specific exception type, or using a tuple of exceptions in a single except.\n",
        "\n",
        "\n",
        "\n",
        "\n",
        "\n",
        "(8) What is the purpose of the with statement when handling files in Python?\n",
        "\n",
        "Ans: The with statement provides automatic resource management, ensuring files are properly closed even if exceptions occur, simplifying file handling.\n",
        "\n",
        "\n",
        "\n",
        "\n",
        "\n",
        "(9) What is the difference between multithreading and multiprocessing?\n",
        "\n",
        "Ans: Multithreading utilizes multiple threads within a single process, while multiprocessing uses multiple processes, allowing better CPU utilization for certain tasks.\n",
        "\n",
        "\n",
        "\n",
        "\n",
        "\n",
        "(10) What are the advantages of using logging in a program?\n",
        "\n",
        "Ans: Logging provides insights into program execution, helps identify errors, facilitates debugging, and aids in monitoring system behavior.\n",
        "\n",
        "\n",
        "\n",
        "\n",
        "\n",
        "(11) What is memory management in Python?\n",
        "\n",
        "Ans: Memory management in Python involves allocating, deallocating, and managing memory for objects, handled automatically by the Python interpreter.\n",
        "\n",
        "\n",
        "\n",
        "\n",
        "\n",
        "\n",
        "(12) What are the basic steps involved in exception handling in Python?\n",
        "\n",
        "Ans: Exception handling involves a try block for potentially risky code, except blocks to handle specific exceptions, and optionally a finally block for cleanup.\n",
        "\n",
        "\n",
        "\n",
        "\n",
        "\n",
        "(13) Why is memory management important in Python?\n",
        "\n",
        "Ans: Memory management is crucial for efficient resource utilization, preventing memory leaks, and ensuring program stability.\n",
        "\n",
        "\n",
        "\n",
        "\n",
        "\n",
        "(14) What is the role of try and except in exception handling?\n",
        "\n",
        "Ans: try encloses code where exceptions might occur, and except blocks catch and handle specific exceptions, allowing the program to continue.\n",
        "\n",
        "\n",
        "\n",
        "\n",
        "\n",
        "(15) How does Python's garbage collection system work?\n",
        "\n",
        "Ans: Python's garbage collection system automatically reclaims memory occupied by objects no longer in use, using reference counting and a cyclic garbage collector.\n",
        "\n",
        "\n",
        "\n",
        "\n",
        "\n",
        "\n",
        "(16) What is the purpose of the else block in exception handling?\n",
        "\n",
        "Ans: The else block in exception handling executes only if no exceptions occurred in the try block, providing a path for code that should run when no errors are encountered.\n",
        "\n",
        "\n",
        "\n",
        "\n",
        "\n",
        "\n",
        "(17) What are the common logging levels in Python?\n",
        "\n",
        "Ans: Common logging levels are DEBUG, INFO, WARNING, ERROR, and CRITICAL, indicating the severity of the logged event.\n",
        "\n",
        "\n",
        "\n",
        "\n",
        "\n",
        "(18) What is the difference between os.fork() and multiprocessing in Python?\n",
        "\n",
        "Ans: os.fork() creates a child process that is a copy of the parent, while multiprocessing creates new processes that are independent, with different memory spaces.\n",
        "\n",
        "\n",
        "\n",
        "\n",
        "\n",
        "\n",
        "(19) What is the importance of closing a file in Python?\n",
        "\n",
        "Ans: Closing a file releases system resources and ensures data is fully written to disk, preventing data loss or corruption.\n",
        "\n",
        "\n",
        "\n",
        "\n",
        "\n",
        "\n",
        "(20) What is the difference between file.read() and file.readline() in Python?\n",
        "\n",
        "Ans: file.read() reads the entire file content as a single string, while file.readline() reads a single line from the file.\n",
        "\n",
        "\n",
        "\n",
        "\n",
        "\n",
        "\n",
        "(21) What is the logging module in Python used for?\n",
        "\n",
        "Ans: The logging module is used for recording program events, such as errors, warnings, and informational messages, to files, the console, or other destinations.\n",
        "\n",
        "\n",
        "\n",
        "\n",
        "\n",
        "\n",
        "(22) What is the os module in Python used for in file handling?\n",
        "\n",
        "Ans: The os module provides functions for interacting with the operating system, including file manipulation like creating, deleting, renaming, and checking file properties.\n",
        "\n",
        "\n",
        "\n",
        "\n",
        "\n",
        "(23) What are the challenges associated with memory management in Python?\n",
        "\n",
        "Ans: Challenges in Python's memory management include potential memory leaks due to circular references and managing memory for large datasets, often addressed using techniques like weak references and generators.\n",
        "\n",
        "\n",
        "\n",
        "\n",
        "\n",
        "(24) How do you raise an exception manually in Python?\n",
        "\n",
        "Ans: Exceptions are raised manually using the raise statement, followed by the exception type and optionally an error message, allowing for custom error handling.\n",
        "\n",
        "\n",
        "\n",
        "\n",
        "\n",
        "\n",
        "(25) Why is it important to use multithreading in certain applications?\n",
        "\n",
        "Ans: Multithreading can improve responsiveness in applications with I/O-bound tasks, allowing parallel execution of code while waiting for external operations, like network requests or disk access.\n",
        "\n",
        "\n"
      ],
      "metadata": {
        "id": "x1ug5opjl_ZV"
      }
    },
    {
      "cell_type": "code",
      "execution_count": null,
      "metadata": {
        "id": "kvC-HzmJe6ce"
      },
      "outputs": [],
      "source": [
        "#PRACTICAL QUESTIONS\n",
        "\n",
        "#(1) How can you open a file for writing in Python and write a string to it?\n",
        "\n",
        "file=open(\"file.txt\", \"w\")\n",
        "file.write(\"This is first line\\nThis is second line\\nThis is third line\\n\")\n",
        "file.close()"
      ]
    },
    {
      "cell_type": "code",
      "source": [
        "#(2) Write a Python program to read the contents of a file and print each line?\n",
        "\n",
        "file=open(\"file.txt\", \"r\")\n",
        "file.seek(0)\n",
        "print(file.read())\n",
        "file.close()"
      ],
      "metadata": {
        "id": "F9drH3zAfJLP",
        "colab": {
          "base_uri": "https://localhost:8080/"
        },
        "outputId": "7f8367d6-f1b2-402b-cbeb-8b35967dec0f"
      },
      "execution_count": null,
      "outputs": [
        {
          "output_type": "stream",
          "name": "stdout",
          "text": [
            "This is first line\n",
            "This is second line\n",
            "This is third line\n",
            "\n"
          ]
        }
      ]
    },
    {
      "cell_type": "code",
      "source": [
        "#(3) How would you handle a case where the file doesn't exist while trying to open it for reading?\n",
        "\n",
        "try:\n",
        "  file=open(\"sampl.txt\", \"r\")\n",
        "except FileNotFoundError as e:\n",
        "  print(e)"
      ],
      "metadata": {
        "id": "qH81L_0yfL6O",
        "colab": {
          "base_uri": "https://localhost:8080/"
        },
        "outputId": "2de0895f-31e1-4270-df85-a20704f24984"
      },
      "execution_count": 45,
      "outputs": [
        {
          "output_type": "stream",
          "name": "stdout",
          "text": [
            "[Errno 2] No such file or directory: 'sampl.txt'\n"
          ]
        }
      ]
    },
    {
      "cell_type": "code",
      "source": [
        "#(4) Write a Python script that reads from one file and writes its content to another file?\n",
        "\n",
        "import shutil\n",
        "shutil.copy(\"test.text\", \"test.txt\")"
      ],
      "metadata": {
        "id": "827hFpUUfUQ4",
        "colab": {
          "base_uri": "https://localhost:8080/",
          "height": 35
        },
        "outputId": "a8471b07-ac7e-4ce1-ab7f-1e73551c67d0"
      },
      "execution_count": 50,
      "outputs": [
        {
          "output_type": "execute_result",
          "data": {
            "text/plain": [
              "'test.txt'"
            ],
            "application/vnd.google.colaboratory.intrinsic+json": {
              "type": "string"
            }
          },
          "metadata": {},
          "execution_count": 50
        }
      ]
    },
    {
      "cell_type": "code",
      "source": [
        "#(5) How would you catch and handle division by zero error in Python?\n",
        "\n",
        "try:\n",
        "  5/0\n",
        "except ZeroDivisionError as e:\n",
        "  print(e)"
      ],
      "metadata": {
        "id": "LZNfrgyDfXcU",
        "colab": {
          "base_uri": "https://localhost:8080/"
        },
        "outputId": "9deeaba2-90a1-485f-f0fc-a127c25cdaf1"
      },
      "execution_count": null,
      "outputs": [
        {
          "output_type": "stream",
          "name": "stdout",
          "text": [
            "division by zero\n"
          ]
        }
      ]
    },
    {
      "cell_type": "code",
      "source": [
        "#(6) Write a Python program that logs an error message to a log file when a division by zero exception occurs?\n",
        "\n",
        "import logging\n",
        "logging.basicConfig(filename=\"error.log\", level=logging.DEBUG)\n",
        "try:\n",
        "  5/0\n",
        "except ZeroDivisionError as e:\n",
        "  logging.error(f\"The given error is{e}\")"
      ],
      "metadata": {
        "id": "1b4gRhF0fYqu",
        "colab": {
          "base_uri": "https://localhost:8080/"
        },
        "outputId": "df66af27-acd5-40a7-efbd-702c8398c1ef"
      },
      "execution_count": null,
      "outputs": [
        {
          "output_type": "stream",
          "name": "stderr",
          "text": [
            "ERROR:root:The given error isdivision by zero\n"
          ]
        }
      ]
    },
    {
      "cell_type": "code",
      "source": [
        "#(7) How do you log information at different levels (INFO, ERROR, WARNING) in Python using the logging module?\n",
        "\n",
        "import logging\n",
        "logging.basicConfig(filename=\"error.log\", level=logging.DEBUG)\n",
        "try:\n",
        "  5/0\n",
        "except ZeroDivisionError as e:\n",
        "  logging.error(f\"The given error is{e}\")"
      ],
      "metadata": {
        "id": "Xnd3bt3KfZ0i",
        "colab": {
          "base_uri": "https://localhost:8080/"
        },
        "outputId": "e3a3ad00-5491-4d89-a5d8-f9c1263504f7"
      },
      "execution_count": null,
      "outputs": [
        {
          "output_type": "stream",
          "name": "stderr",
          "text": [
            "ERROR:root:The given error isdivision by zero\n"
          ]
        }
      ]
    },
    {
      "cell_type": "code",
      "source": [
        "#(8) Write a program to handle a file opening error using exception handling?\n",
        "\n",
        "try:\n",
        "  file=open(\"file.txt\", \"r\")\n",
        "except FileNotFoundError as e:\n",
        "  print(e)"
      ],
      "metadata": {
        "id": "FuEsavzIfa11",
        "colab": {
          "base_uri": "https://localhost:8080/"
        },
        "outputId": "8853ffda-f721-49a9-a733-324f61473791"
      },
      "execution_count": null,
      "outputs": [
        {
          "output_type": "stream",
          "name": "stdout",
          "text": [
            "[Errno 2] No such file or directory: 'file.txt'\n"
          ]
        }
      ]
    },
    {
      "cell_type": "code",
      "source": [
        "#(9) How can you read a file line by line and store its content in a list in Python?\n",
        "\n",
        "file=open(\"test.txt\", \"w\")\n",
        "file.write(\"This is first line\\nThis is second line\\nThis is third line\\n\")\n",
        "file.close()"
      ],
      "metadata": {
        "id": "Tc1eT9edfb5k"
      },
      "execution_count": 15,
      "outputs": []
    },
    {
      "cell_type": "code",
      "source": [
        "file=open(\"test.txt\", \"r\")\n",
        "for i in file:\n",
        "  ls=[]\n",
        "  ls.append(i)\n",
        "  print(ls)\n",
        "file.close()"
      ],
      "metadata": {
        "colab": {
          "base_uri": "https://localhost:8080/"
        },
        "id": "bx_puTulbS5h",
        "outputId": "0d122276-63f4-46e9-e8a6-f7557bd12b7d"
      },
      "execution_count": 25,
      "outputs": [
        {
          "output_type": "stream",
          "name": "stdout",
          "text": [
            "['This is first line\\n']\n",
            "['This is second line\\n']\n",
            "['This is third line\\n']\n"
          ]
        }
      ]
    },
    {
      "cell_type": "code",
      "source": [
        "#(10) How can you append data to an existing file in Python?\n",
        "\n",
        "file=open(\"test.txt\", \"a\")\n",
        "file.write(\"This is last line\")\n",
        "file.close()"
      ],
      "metadata": {
        "id": "0Wym1OI4fdoe"
      },
      "execution_count": 26,
      "outputs": []
    },
    {
      "cell_type": "code",
      "source": [
        "#(11) Write a Python program that uses a try-except block to handle an error when attempting to access a dictionary key that doesn't exist?\n",
        "\n",
        "d={\"Name\": \"Rahul\", \"Course\": \"DS\"}\n",
        "\n",
        "try:\n",
        "  d[\"Fees\"]\n",
        "except KeyError as e:\n",
        "  print(\"The key is not found\", e)"
      ],
      "metadata": {
        "id": "FQ_xnx0Pfe26",
        "colab": {
          "base_uri": "https://localhost:8080/"
        },
        "outputId": "6ed83b14-c71e-47a1-8ad7-f5f10eda1679"
      },
      "execution_count": 34,
      "outputs": [
        {
          "output_type": "stream",
          "name": "stdout",
          "text": [
            "The key is not found 'Fees'\n"
          ]
        }
      ]
    },
    {
      "cell_type": "code",
      "source": [
        "#(12) Write a program that demonstrates using multiple except blocks to handle different types of exceptions?\n",
        "\n",
        "try:\n",
        "  5/0\n",
        "except ZeroDivisionError as e:\n",
        "  print(e)\n",
        "except KeyError as e:\n",
        "  print(e)"
      ],
      "metadata": {
        "id": "2qXH_CAhfgCV",
        "colab": {
          "base_uri": "https://localhost:8080/"
        },
        "outputId": "45863f91-9873-4ca3-c00a-ca2131d4de41"
      },
      "execution_count": 35,
      "outputs": [
        {
          "output_type": "stream",
          "name": "stdout",
          "text": [
            "division by zero\n"
          ]
        }
      ]
    },
    {
      "cell_type": "code",
      "source": [
        "#(13) How would you check if a file exists before attempting to read it in Python?\n",
        "\n",
        "file=open(\"test.txt\", \"r\")\n",
        "file.seek(0)\n",
        "print(file.read())\n",
        "file.close()"
      ],
      "metadata": {
        "id": "lA6mPptCfhzs",
        "colab": {
          "base_uri": "https://localhost:8080/"
        },
        "outputId": "6df34aec-5e68-4241-83ff-e824b8c363c2"
      },
      "execution_count": 38,
      "outputs": [
        {
          "output_type": "stream",
          "name": "stdout",
          "text": [
            "This is first line\n",
            "This is second line\n",
            "This is third line\n",
            "This is last line\n"
          ]
        }
      ]
    },
    {
      "cell_type": "code",
      "source": [
        "#(14) Write a program that uses the logging module to log both informational and error messages?\n",
        "\n",
        "import logging\n",
        "logging.basicConfig(filename=\"error.log\", level=logging.DEBUG)\n",
        "try:\n",
        "  5/0\n",
        "except ZeroDivisionError as e:\n",
        "  logging.error(f\"The given error is{e}\")"
      ],
      "metadata": {
        "id": "tcGTQy5_fkN5",
        "colab": {
          "base_uri": "https://localhost:8080/"
        },
        "outputId": "d6a15b66-4fab-4e43-af60-8bbe49ce5229"
      },
      "execution_count": 39,
      "outputs": [
        {
          "output_type": "stream",
          "name": "stderr",
          "text": [
            "ERROR:root:The given error isdivision by zero\n"
          ]
        }
      ]
    },
    {
      "cell_type": "code",
      "source": [
        "#(15) Write a Python program that prints the content of a file and handles the case when the file is empty?\n",
        "\n",
        "file=open(\"test.txt\", \"r\")\n",
        "file.seek(0)\n",
        "print(file.read())\n",
        "file.close()"
      ],
      "metadata": {
        "id": "zNf5XnFHfmqY",
        "colab": {
          "base_uri": "https://localhost:8080/"
        },
        "outputId": "fe820ac8-cd46-4885-f61a-9b524eaa23dc"
      },
      "execution_count": 40,
      "outputs": [
        {
          "output_type": "stream",
          "name": "stdout",
          "text": [
            "This is first line\n",
            "This is second line\n",
            "This is third line\n",
            "This is last line\n"
          ]
        }
      ]
    },
    {
      "cell_type": "code",
      "source": [
        "#(17) Demonstrate how to use memory profiling to check the memory usage of a small program?\n",
        "\n"
      ],
      "metadata": {
        "id": "aECmM9SYfong"
      },
      "execution_count": null,
      "outputs": []
    },
    {
      "cell_type": "code",
      "source": [
        "#(18) Write a Python program to create and write a list of numbers to a file, one number per line?\n",
        "\n",
        "file=open(\"test.txt\", \"w\")\n",
        "file.write(\"1\\n2\\n3\\n4\\n5\")\n",
        "file.close()"
      ],
      "metadata": {
        "id": "uUF2si3gfq5k"
      },
      "execution_count": 41,
      "outputs": []
    },
    {
      "cell_type": "code",
      "source": [
        "#(20) Write a program that handles both IndexError and KeyError using a try-except block?\n",
        "\n",
        "try:\n",
        "  d={\"Name\": \"Rahul\", \"Course\": \"DS\"}\n",
        "  d[\"Fees\"]\n",
        "except KeyError as e:\n",
        "  print(\"The key is not found\", e)\n",
        "except IndexError as e:\n",
        "  print(e)"
      ],
      "metadata": {
        "id": "-aUBVVuWftZB",
        "colab": {
          "base_uri": "https://localhost:8080/"
        },
        "outputId": "fdf77186-8d6b-4f3e-efb1-3585a46bebb0"
      },
      "execution_count": 42,
      "outputs": [
        {
          "output_type": "stream",
          "name": "stdout",
          "text": [
            "The key is not found 'Fees'\n"
          ]
        }
      ]
    },
    {
      "cell_type": "code",
      "source": [
        "#(19) How would you implement a basic logging setup that logs to a file with rotation after 1MB?\n",
        "\n",
        "import logging\n",
        "from logging.handlers import RotatingFileHandler\n",
        "\n",
        "logger = logging.getLogger('my_logger')\n",
        "logger.setLevel(logging.DEBUG)\n",
        "\n",
        "handler = RotatingFileHandler(\n",
        "    'my_log.log',\n",
        "    maxBytes=1024 * 1024,\n",
        "    backupCount=5\n",
        ")\n",
        "\n",
        "formatter = logging.Formatter('%(asctime)s - %(levelname)s - %(message)s')\n",
        "handler.setFormatter(formatter)\n",
        "logger.addHandler(handler)\n",
        "logger.debug('This is a debug message')\n",
        "logger.info('This is an info message')\n",
        "logger.warning('This is a warning message')\n",
        "logger.error('This is an error message')\n",
        "logger.critical('This is a critical message')"
      ],
      "metadata": {
        "id": "7MKXd0iffsVg",
        "colab": {
          "base_uri": "https://localhost:8080/"
        },
        "outputId": "1e33db36-f539-42c5-c01e-5a486a0f7918"
      },
      "execution_count": 57,
      "outputs": [
        {
          "output_type": "stream",
          "name": "stderr",
          "text": [
            "DEBUG:my_logger:This is a debug message\n",
            "INFO:my_logger:This is an info message\n",
            "WARNING:my_logger:This is a warning message\n",
            "ERROR:my_logger:This is an error message\n",
            "CRITICAL:my_logger:This is a critical message\n"
          ]
        }
      ]
    },
    {
      "cell_type": "code",
      "source": [
        "#(21) How would you open a file and read its contents using a context manager in Python?\n",
        "\n",
        "with open(\"test.txt\", \"r\") as file:\n",
        "  print(file.read())"
      ],
      "metadata": {
        "id": "3zGKfQOdfuZh",
        "colab": {
          "base_uri": "https://localhost:8080/"
        },
        "outputId": "c93c970a-a1f8-4e03-a2cc-386252e2bca1"
      },
      "execution_count": 43,
      "outputs": [
        {
          "output_type": "stream",
          "name": "stdout",
          "text": [
            "1\n",
            "2\n",
            "3\n",
            "4\n",
            "5\n"
          ]
        }
      ]
    },
    {
      "cell_type": "code",
      "source": [
        "#(22) Write a Python program that reads a file and prints the number of occurrences of a specific word?\n",
        "\n",
        "def count_word_occurrences(file_path, target_word):\n",
        "    count = 0\n",
        "    with open(file_path, 'r') as file:\n",
        "        for line in file:\n",
        "            words = line.split()\n",
        "            for word in words:\n",
        "                if word == target_word:\n",
        "                    count += 1\n",
        "    return count"
      ],
      "metadata": {
        "id": "XJI3lb_Wfvdf"
      },
      "execution_count": 56,
      "outputs": []
    },
    {
      "cell_type": "code",
      "source": [
        "#(23) How can you check if a file is empty before attempting to read its contents?\n",
        "\n",
        "import os\n",
        "\n",
        "def is_file_empty(file_path):\n",
        "    return os.stat(file_path).st_size == 0"
      ],
      "metadata": {
        "id": "R_l1ZdiNfwdb"
      },
      "execution_count": 54,
      "outputs": []
    },
    {
      "cell_type": "code",
      "source": [
        "#(24) Write a Python program that writes to a log file when an error occurs during file handling?\n",
        "\n",
        "import logging\n",
        "\n",
        "logging.basicConfig(filename='file_handling.log', level=logging.ERROR)\n",
        "\n",
        "try:\n",
        "    with open('nonexistent_file.txt', 'r') as file:\n",
        "        content = file.read()\n",
        "except FileNotFoundError as e:\n",
        "    logging.error(f\"Error during file handling: {e}\")\n",
        "    print(f\"Error: {e}\")"
      ],
      "metadata": {
        "id": "7i-Nl4iMfxkG",
        "colab": {
          "base_uri": "https://localhost:8080/"
        },
        "outputId": "f03db35d-4cb7-4e92-958e-9c8241824f10"
      },
      "execution_count": 52,
      "outputs": [
        {
          "output_type": "stream",
          "name": "stderr",
          "text": [
            "ERROR:root:Error during file handling: [Errno 2] No such file or directory: 'nonexistent_file.txt'\n"
          ]
        },
        {
          "output_type": "stream",
          "name": "stdout",
          "text": [
            "Error: [Errno 2] No such file or directory: 'nonexistent_file.txt'\n"
          ]
        }
      ]
    }
  ]
}